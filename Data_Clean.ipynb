{
 "cells": [
  {
   "cell_type": "code",
   "execution_count": 1,
   "id": "058e74fd",
   "metadata": {},
   "outputs": [],
   "source": [
    "import pandas as pd\n",
    "from pathlib import Path\n",
    "import os"
   ]
  },
  {
   "cell_type": "code",
   "execution_count": 2,
   "id": "1885e744",
   "metadata": {},
   "outputs": [],
   "source": [
    "amzn_data = Path(\"/Users/hazelmena/Desktop/stock-market-on-lockdown/csv/amzn.csv\")\n",
    "axp_data = Path(\"/Users/hazelmena/Desktop/stock-market-on-lockdown/csv/axp.csv\")\n",
    "bac_data = Path(\"/Users/hazelmena/Desktop/stock-market-on-lockdown/csv/bac.csv\")\n",
    "goog_data = Path(\"/Users/hazelmena/Desktop/stock-market-on-lockdown/csv/goog.csv\")\n",
    "hd_data = Path(\"/Users/hazelmena/Desktop/stock-market-on-lockdown/csv/hd.csv\")\n",
    "jnj_data = Path(\"/Users/hazelmena/Desktop/stock-market-on-lockdown/csv/jnj.csv\")\n",
    "lly_data = Path(\"/Users/hazelmena/Desktop/stock-market-on-lockdown/csv/lly.csv\")\n",
    "lulu_data = Path(\"/Users/hazelmena/Desktop/stock-market-on-lockdown/csv/lulu.csv\")\n",
    "mck_data = Path(\"/Users/hazelmena/Desktop/stock-market-on-lockdown/csv/mck.csv\")\n",
    "meta_data = Path(\"/Users/hazelmena/Desktop/stock-market-on-lockdown/csv/meta.csv\")\n",
    "ms_data = Path(\"/Users/hazelmena/Desktop/stock-market-on-lockdown/csv/ms.csv\")\n",
    "pins_data = Path(\"/Users/hazelmena/Desktop/stock-market-on-lockdown/csv/pins.csv\")\n",
    "snap_data = Path(\"/Users/hazelmena/Desktop/stock-market-on-lockdown/csv/snap.csv\")\n",
    "spot_data = Path(\"/Users/hazelmena/Desktop/stock-market-on-lockdown/csv/spot.csv\")\n",
    "tgt_data = Path(\"/Users/hazelmena/Desktop/stock-market-on-lockdown/csv/tgt.csv\")\n",
    "hsbc_data = Path(\"/Users/hazelmena/Desktop/stock-market-on-lockdown/csv/hsbc.csv\")\n",
    "mrk_data = Path(\"/Users/hazelmena/Desktop/stock-market-on-lockdown/csv/mrk.csv\")\n",
    "unh_data = Path(\"/Users/hazelmena/Desktop/stock-market-on-lockdown/csv/unh.csv\")\n",
    "wfc_data = Path(\"/Users/hazelmena/Desktop/stock-market-on-lockdown/csv/wfc.csv\")\n",
    "wsm_data = Path(\"/Users/hazelmena/Desktop/stock-market-on-lockdown/csv/wsm.csv\")"
   ]
  },
  {
   "cell_type": "code",
   "execution_count": 3,
   "id": "fc94e8ad",
   "metadata": {},
   "outputs": [],
   "source": [
    "amzn_data_df = pd.read_csv(amzn_data)\n",
    "axp_data_df = pd.read_csv(axp_data)\n",
    "bac_data_df = pd.read_csv(bac_data)\n",
    "goog_data_df = pd.read_csv(goog_data)\n",
    "hd_data_df = pd.read_csv(hd_data)\n",
    "jnj_data_df = pd.read_csv(jnj_data)\n",
    "lly_data_df = pd.read_csv(lly_data)\n",
    "lulu_data_df = pd.read_csv(lulu_data)\n",
    "mck_data_df = pd.read_csv(mck_data)\n",
    "meta_data_df = pd.read_csv(meta_data)\n",
    "ms_data_df = pd.read_csv(ms_data)\n",
    "pins_data_df = pd.read_csv(pins_data)\n",
    "snap_data_df = pd.read_csv(snap_data)\n",
    "spot_data_df = pd.read_csv(spot_data)\n",
    "tgt_data_df = pd.read_csv(tgt_data)\n",
    "hsbc_data_df = pd.read_csv(hsbc_data)\n",
    "mrk_data_df = pd.read_csv(mrk_data)\n",
    "unh_data_df = pd.read_csv(unh_data)\n",
    "wfc_data_df = pd.read_csv(wfc_data)\n",
    "wsm_data_df =pd.read_csv(wsm_data)"
   ]
  },
  {
   "cell_type": "code",
   "execution_count": 4,
   "id": "58b0b7bd",
   "metadata": {},
   "outputs": [],
   "source": [
    "# Define a list of your DataFrame variables\n",
    "dataframes = [amzn_data_df, axp_data_df, bac_data_df, goog_data_df, hd_data_df,\n",
    "              jnj_data_df, lly_data_df, lulu_data_df, mck_data_df, meta_data_df,\n",
    "              ms_data_df, pins_data_df, snap_data_df, spot_data_df, tgt_data_df,\n",
    "              hsbc_data_df, mrk_data_df, unh_data_df, wfc_data_df, wsm_data_df]\n",
    "\n",
    "# Define a list of stock names corresponding to your DataFrames\n",
    "stock_names = [\"AMZN\", \"AXP\", \"BAC\", \"GOOG\", \"HD\", \"JNJ\", \"LLY\", \"LULU\", \"MCK\",\n",
    "               \"META\", \"MS\", \"PINS\", \"SNAP\", \"SPOT\", \"TGT\", \"HSBC\", \"MRK\", \"UNH\", \"WFC\", \"WSM\"]\n",
    "\n",
    "# Loop through DataFrames and add the \"Stock Name\" column\n",
    "for i, df in enumerate(dataframes):\n",
    "    df[\"Stock Name\"] = stock_names[i]\n"
   ]
  },
  {
   "cell_type": "code",
   "execution_count": 5,
   "id": "0218aefb",
   "metadata": {},
   "outputs": [],
   "source": [
    "dataframes = [amzn_data_df, axp_data_df, bac_data_df, goog_data_df, hd_data_df,\n",
    "              jnj_data_df, lly_data_df, lulu_data_df, mck_data_df, meta_data_df,\n",
    "              ms_data_df, pins_data_df, snap_data_df, spot_data_df, tgt_data_df,\n",
    "              hsbc_data_df, mrk_data_df, unh_data_df, wfc_data_df, wsm_data_df]\n",
    "\n",
    "\n",
    "for i, df in enumerate(dataframes):\n",
    "    \n",
    "    df['id'] = range(1, len(df) + 1)\n",
    "    df.to_csv(f'modified_{i+1}.csv', index=False)"
   ]
  },
  {
   "cell_type": "code",
   "execution_count": 6,
   "id": "e82859dd",
   "metadata": {},
   "outputs": [],
   "source": [
    "combined_df = pd.concat([amzn_data_df, axp_data_df, bac_data_df, goog_data_df, hd_data_df,\n",
    "              jnj_data_df, lly_data_df, lulu_data_df, mck_data_df, meta_data_df,\n",
    "              ms_data_df, pins_data_df, snap_data_df, spot_data_df, tgt_data_df,\n",
    "              hsbc_data_df, mrk_data_df, unh_data_df, wfc_data_df, wsm_data_df], axis=0)\n"
   ]
  },
  {
   "cell_type": "code",
   "execution_count": 7,
   "id": "5967d45a",
   "metadata": {},
   "outputs": [],
   "source": [
    "combined_df.to_csv(\"combined_file.csv\", index=False)\n"
   ]
  },
  {
   "cell_type": "markdown",
   "id": "8e3e9f0d",
   "metadata": {},
   "source": []
  },
  {
   "cell_type": "code",
   "execution_count": null,
   "id": "65ecec6d",
   "metadata": {},
   "outputs": [],
   "source": []
  }
 ],
 "metadata": {
  "kernelspec": {
   "display_name": "Python 3 (ipykernel)",
   "language": "python",
   "name": "python3"
  },
  "language_info": {
   "codemirror_mode": {
    "name": "ipython",
    "version": 3
   },
   "file_extension": ".py",
   "mimetype": "text/x-python",
   "name": "python",
   "nbconvert_exporter": "python",
   "pygments_lexer": "ipython3",
   "version": "3.10.11"
  }
 },
 "nbformat": 4,
 "nbformat_minor": 5
}
