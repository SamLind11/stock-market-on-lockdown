{
 "cells": [
  {
   "cell_type": "code",
   "execution_count": 1,
   "id": "d38dbc3b",
   "metadata": {},
   "outputs": [],
   "source": [
    "import sqlite3\n",
    "import pandas as pd"
   ]
  },
  {
   "cell_type": "code",
   "execution_count": 2,
   "id": "3d7184cf",
   "metadata": {},
   "outputs": [],
   "source": [
    "csv_file_path = '/Users/hazelmena/Desktop/stock-market-on-lockdown/combined_file.csv'"
   ]
  },
  {
   "cell_type": "code",
   "execution_count": 3,
   "id": "9544bddf",
   "metadata": {},
   "outputs": [],
   "source": [
    "conn = sqlite3.connect('stockmarket.db')"
   ]
  },
  {
   "cell_type": "code",
   "execution_count": 4,
   "id": "56bdb181",
   "metadata": {},
   "outputs": [],
   "source": [
    "cursor = conn.cursor()"
   ]
  },
  {
   "cell_type": "code",
   "execution_count": 5,
   "id": "2dd46a6f",
   "metadata": {},
   "outputs": [],
   "source": [
    "table_names = ['AMZN', 'AXP', 'MRK', 'HSBC', 'UNH', 'BAC', 'HD', 'MCK', 'TGT', 'SPOT', 'META', 'LULU', 'SNAP', 'GOOG', 'JNJ', 'MS', 'PINS', 'WFC', 'WSM', 'LLY']\n"
   ]
  },
  {
   "cell_type": "code",
   "execution_count": 6,
   "id": "a0fc21a5",
   "metadata": {},
   "outputs": [],
   "source": [
    "for table_name in table_names:\n",
    "    cursor.execute(f\"CREATE TABLE IF NOT EXISTS {table_name} (id INTEGER PRIMARY KEY, 'Stock Name' TEXT UNIQUE NOT NULL, date VARCHAR(10), open DECIMAL(10, 2), high DECIMAL(10, 2), low DECIMAL(10, 2), close DECIMAL(10, 2), volume Int);\")"
   ]
  },
  {
   "cell_type": "code",
   "execution_count": 7,
   "id": "78418981",
   "metadata": {
    "scrolled": true
   },
   "outputs": [],
   "source": [
    "df = pd.read_csv(csv_file_path)"
   ]
  },
  {
   "cell_type": "code",
   "execution_count": 8,
   "id": "68d790fc",
   "metadata": {},
   "outputs": [],
   "source": [
    "for table_name in table_names:\n",
    "    # Filter the DataFrame based on 'Stock Name' before inserting\n",
    "    df_table = df[df['Stock Name'] == table_name]\n",
    "\n",
    "    if not df_table.empty:\n",
    "        df_table.to_sql(table_name, conn, if_exists='replace', index=False)\n",
    "    else:\n",
    "        print(f\"No data found for table '{table_name}'\")"
   ]
  },
  {
   "cell_type": "code",
   "execution_count": 9,
   "id": "1bd29bb5",
   "metadata": {},
   "outputs": [],
   "source": [
    "conn.commit()"
   ]
  },
  {
   "cell_type": "code",
   "execution_count": 10,
   "id": "9d199a43",
   "metadata": {},
   "outputs": [],
   "source": [
    "conn.close()"
   ]
  },
  {
   "cell_type": "code",
   "execution_count": null,
   "id": "ba729319",
   "metadata": {},
   "outputs": [],
   "source": []
  }
 ],
 "metadata": {
  "kernelspec": {
   "display_name": "Python 3 (ipykernel)",
   "language": "python",
   "name": "python3"
  },
  "language_info": {
   "codemirror_mode": {
    "name": "ipython",
    "version": 3
   },
   "file_extension": ".py",
   "mimetype": "text/x-python",
   "name": "python",
   "nbconvert_exporter": "python",
   "pygments_lexer": "ipython3",
   "version": "3.10.11"
  }
 },
 "nbformat": 4,
 "nbformat_minor": 5
}
